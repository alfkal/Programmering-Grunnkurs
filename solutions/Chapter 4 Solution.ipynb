{
 "cells": [
  {
   "cell_type": "markdown",
   "metadata": {},
   "source": [
    "# Chapter 4 - Solution"
   ]
  },
  {
   "cell_type": "markdown",
   "metadata": {},
   "source": [
    "## Simple calculator"
   ]
  },
  {
   "cell_type": "code",
   "execution_count": null,
   "metadata": {},
   "outputs": [],
   "source": [
    "def get_user_input(input_text):\n",
    "    \"\"\"Takes the input from the user as an integer and returns the number\"\"\"\n",
    "    return int(input(\"{}: \".format(input_text.title())))\n",
    "\n",
    "def multiply(first, second):\n",
    "    \"\"\"Multiplies two arguments, in this case two integers\"\"\"\n",
    "    return first * second\n",
    "\n",
    "def my_calculator():\n",
    "    \"\"\"Method for orchestrating the calculator program. The method first gathers two user inputs, calls the multiply function on the two variables and returns the result\"\"\"\n",
    "    first = get_user_input(\"first number\")\n",
    "    second = get_user_input(\"second number\")\n",
    "    \n",
    "    sum = multiply(first, second)\n",
    "    print(sum)\n",
    "\n",
    "my_calculator()"
   ]
  },
  {
   "cell_type": "code",
   "execution_count": null,
   "metadata": {},
   "outputs": [],
   "source": []
  }
 ],
 "metadata": {
  "kernelspec": {
   "display_name": "Python 2",
   "language": "python",
   "name": "python2"
  },
  "language_info": {
   "codemirror_mode": {
    "name": "ipython",
    "version": 2
   },
   "file_extension": ".py",
   "mimetype": "text/x-python",
   "name": "python",
   "nbconvert_exporter": "python",
   "pygments_lexer": "ipython2",
   "version": "2.7.17"
  }
 },
 "nbformat": 4,
 "nbformat_minor": 4
}